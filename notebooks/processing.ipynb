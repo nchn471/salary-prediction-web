{
 "cells": [
  {
   "cell_type": "markdown",
   "metadata": {},
   "source": [
    "# Software developer salary prediction\n",
    "## 1. Đặt vấn đề: \n",
    "- Công nghệ số đang phát triển nhưng nguồn nhân lực có trình độ còn hạn chế. Do đó, nhà tuyển dụng cần đưa ra mức lương phù hợp để thu hút các ứng cử viên. Bên cạnh đó, ứng cử viên cũng có thể biết được điều kiện cần để có được mức lương mong muốn. \n",
    "- Giải pháp: Xây dựng mô hình dự đoán lương của nhà phát triển phần mềm dựa trên các tiêu chí ..\n",
    "\n",
    "## Tổng quan dự án\n",
    "Dự án bao gồm các bước sau,\n",
    "\n",
    "- **Exploratory Data Analysis**: Explore the various features, their distributions using Histograms and Box-plots\n",
    "- **Pre-processing and Data Cleaning**: Normalisation, filling missing values, encoding categorical values\n",
    "- **Feature Selection**: Study the correlation with response variable (Listing Price) and determine which features are most useful in predicting the price.\n",
    "- **Model Fitting and Selection**: Training different models, tuning hyper-parameters and studying Model performance using Learning Curve."
   ]
  },
  {
   "cell_type": "code",
   "execution_count": 67,
   "metadata": {},
   "outputs": [],
   "source": [
    "import pandas as pd\n",
    "import matplotlib.pyplot as plt\n",
    "import seaborn as sns\n",
    "import numpy as np"
   ]
  },
  {
   "cell_type": "markdown",
   "metadata": {},
   "source": [
    "## About Data"
   ]
  },
  {
   "cell_type": "code",
   "execution_count": 68,
   "metadata": {},
   "outputs": [
    {
     "data": {
      "text/html": [
       "<div>\n",
       "<style scoped>\n",
       "    .dataframe tbody tr th:only-of-type {\n",
       "        vertical-align: middle;\n",
       "    }\n",
       "\n",
       "    .dataframe tbody tr th {\n",
       "        vertical-align: top;\n",
       "    }\n",
       "\n",
       "    .dataframe thead th {\n",
       "        text-align: right;\n",
       "    }\n",
       "</style>\n",
       "<table border=\"1\" class=\"dataframe\">\n",
       "  <thead>\n",
       "    <tr style=\"text-align: right;\">\n",
       "      <th></th>\n",
       "      <th>ResponseId</th>\n",
       "      <th>Q120</th>\n",
       "      <th>MainBranch</th>\n",
       "      <th>Age</th>\n",
       "      <th>Employment</th>\n",
       "      <th>RemoteWork</th>\n",
       "      <th>CodingActivities</th>\n",
       "      <th>EdLevel</th>\n",
       "      <th>LearnCode</th>\n",
       "      <th>LearnCodeOnline</th>\n",
       "      <th>...</th>\n",
       "      <th>Frequency_1</th>\n",
       "      <th>Frequency_2</th>\n",
       "      <th>Frequency_3</th>\n",
       "      <th>TimeSearching</th>\n",
       "      <th>TimeAnswering</th>\n",
       "      <th>ProfessionalTech</th>\n",
       "      <th>Industry</th>\n",
       "      <th>SurveyLength</th>\n",
       "      <th>SurveyEase</th>\n",
       "      <th>ConvertedCompYearly</th>\n",
       "    </tr>\n",
       "  </thead>\n",
       "  <tbody>\n",
       "    <tr>\n",
       "      <th>0</th>\n",
       "      <td>1</td>\n",
       "      <td>I agree</td>\n",
       "      <td>None of these</td>\n",
       "      <td>18-24 years old</td>\n",
       "      <td>NaN</td>\n",
       "      <td>NaN</td>\n",
       "      <td>NaN</td>\n",
       "      <td>NaN</td>\n",
       "      <td>NaN</td>\n",
       "      <td>NaN</td>\n",
       "      <td>...</td>\n",
       "      <td>NaN</td>\n",
       "      <td>NaN</td>\n",
       "      <td>NaN</td>\n",
       "      <td>NaN</td>\n",
       "      <td>NaN</td>\n",
       "      <td>NaN</td>\n",
       "      <td>NaN</td>\n",
       "      <td>NaN</td>\n",
       "      <td>NaN</td>\n",
       "      <td>NaN</td>\n",
       "    </tr>\n",
       "    <tr>\n",
       "      <th>1</th>\n",
       "      <td>2</td>\n",
       "      <td>I agree</td>\n",
       "      <td>I am a developer by profession</td>\n",
       "      <td>25-34 years old</td>\n",
       "      <td>Employed, full-time</td>\n",
       "      <td>Remote</td>\n",
       "      <td>Hobby;Contribute to open-source projects;Boots...</td>\n",
       "      <td>Bachelor’s degree (B.A., B.S., B.Eng., etc.)</td>\n",
       "      <td>Books / Physical media;Colleague;Friend or fam...</td>\n",
       "      <td>Formal documentation provided by the owner of ...</td>\n",
       "      <td>...</td>\n",
       "      <td>1-2 times a week</td>\n",
       "      <td>10+ times a week</td>\n",
       "      <td>Never</td>\n",
       "      <td>15-30 minutes a day</td>\n",
       "      <td>15-30 minutes a day</td>\n",
       "      <td>DevOps function;Microservices;Automated testin...</td>\n",
       "      <td>Information Services, IT, Software Development...</td>\n",
       "      <td>Appropriate in length</td>\n",
       "      <td>Easy</td>\n",
       "      <td>285000.0</td>\n",
       "    </tr>\n",
       "    <tr>\n",
       "      <th>2</th>\n",
       "      <td>3</td>\n",
       "      <td>I agree</td>\n",
       "      <td>I am a developer by profession</td>\n",
       "      <td>45-54 years old</td>\n",
       "      <td>Employed, full-time</td>\n",
       "      <td>Hybrid (some remote, some in-person)</td>\n",
       "      <td>Hobby;Professional development or self-paced l...</td>\n",
       "      <td>Bachelor’s degree (B.A., B.S., B.Eng., etc.)</td>\n",
       "      <td>Books / Physical media;Colleague;On the job tr...</td>\n",
       "      <td>Formal documentation provided by the owner of ...</td>\n",
       "      <td>...</td>\n",
       "      <td>6-10 times a week</td>\n",
       "      <td>6-10 times a week</td>\n",
       "      <td>3-5 times a week</td>\n",
       "      <td>30-60 minutes a day</td>\n",
       "      <td>30-60 minutes a day</td>\n",
       "      <td>DevOps function;Microservices;Automated testin...</td>\n",
       "      <td>Information Services, IT, Software Development...</td>\n",
       "      <td>Appropriate in length</td>\n",
       "      <td>Easy</td>\n",
       "      <td>250000.0</td>\n",
       "    </tr>\n",
       "    <tr>\n",
       "      <th>3</th>\n",
       "      <td>4</td>\n",
       "      <td>I agree</td>\n",
       "      <td>I am a developer by profession</td>\n",
       "      <td>25-34 years old</td>\n",
       "      <td>Employed, full-time</td>\n",
       "      <td>Hybrid (some remote, some in-person)</td>\n",
       "      <td>Hobby</td>\n",
       "      <td>Bachelor’s degree (B.A., B.S., B.Eng., etc.)</td>\n",
       "      <td>Colleague;Friend or family member;Other online...</td>\n",
       "      <td>Formal documentation provided by the owner of ...</td>\n",
       "      <td>...</td>\n",
       "      <td>1-2 times a week</td>\n",
       "      <td>10+ times a week</td>\n",
       "      <td>1-2 times a week</td>\n",
       "      <td>15-30 minutes a day</td>\n",
       "      <td>30-60 minutes a day</td>\n",
       "      <td>Automated testing;Continuous integration (CI) ...</td>\n",
       "      <td>NaN</td>\n",
       "      <td>Appropriate in length</td>\n",
       "      <td>Easy</td>\n",
       "      <td>156000.0</td>\n",
       "    </tr>\n",
       "    <tr>\n",
       "      <th>4</th>\n",
       "      <td>5</td>\n",
       "      <td>I agree</td>\n",
       "      <td>I am a developer by profession</td>\n",
       "      <td>25-34 years old</td>\n",
       "      <td>Employed, full-time;Independent contractor, fr...</td>\n",
       "      <td>Remote</td>\n",
       "      <td>Hobby;Contribute to open-source projects;Profe...</td>\n",
       "      <td>Bachelor’s degree (B.A., B.S., B.Eng., etc.)</td>\n",
       "      <td>Books / Physical media;Online Courses or Certi...</td>\n",
       "      <td>Formal documentation provided by the owner of ...</td>\n",
       "      <td>...</td>\n",
       "      <td>1-2 times a week</td>\n",
       "      <td>1-2 times a week</td>\n",
       "      <td>3-5 times a week</td>\n",
       "      <td>60-120 minutes a day</td>\n",
       "      <td>30-60 minutes a day</td>\n",
       "      <td>Microservices;Automated testing;Observability ...</td>\n",
       "      <td>Other</td>\n",
       "      <td>Appropriate in length</td>\n",
       "      <td>Neither easy nor difficult</td>\n",
       "      <td>23456.0</td>\n",
       "    </tr>\n",
       "  </tbody>\n",
       "</table>\n",
       "<p>5 rows × 84 columns</p>\n",
       "</div>"
      ],
      "text/plain": [
       "   ResponseId     Q120                      MainBranch              Age  \\\n",
       "0           1  I agree                   None of these  18-24 years old   \n",
       "1           2  I agree  I am a developer by profession  25-34 years old   \n",
       "2           3  I agree  I am a developer by profession  45-54 years old   \n",
       "3           4  I agree  I am a developer by profession  25-34 years old   \n",
       "4           5  I agree  I am a developer by profession  25-34 years old   \n",
       "\n",
       "                                          Employment  \\\n",
       "0                                                NaN   \n",
       "1                                Employed, full-time   \n",
       "2                                Employed, full-time   \n",
       "3                                Employed, full-time   \n",
       "4  Employed, full-time;Independent contractor, fr...   \n",
       "\n",
       "                             RemoteWork  \\\n",
       "0                                   NaN   \n",
       "1                                Remote   \n",
       "2  Hybrid (some remote, some in-person)   \n",
       "3  Hybrid (some remote, some in-person)   \n",
       "4                                Remote   \n",
       "\n",
       "                                    CodingActivities  \\\n",
       "0                                                NaN   \n",
       "1  Hobby;Contribute to open-source projects;Boots...   \n",
       "2  Hobby;Professional development or self-paced l...   \n",
       "3                                              Hobby   \n",
       "4  Hobby;Contribute to open-source projects;Profe...   \n",
       "\n",
       "                                        EdLevel  \\\n",
       "0                                           NaN   \n",
       "1  Bachelor’s degree (B.A., B.S., B.Eng., etc.)   \n",
       "2  Bachelor’s degree (B.A., B.S., B.Eng., etc.)   \n",
       "3  Bachelor’s degree (B.A., B.S., B.Eng., etc.)   \n",
       "4  Bachelor’s degree (B.A., B.S., B.Eng., etc.)   \n",
       "\n",
       "                                           LearnCode  \\\n",
       "0                                                NaN   \n",
       "1  Books / Physical media;Colleague;Friend or fam...   \n",
       "2  Books / Physical media;Colleague;On the job tr...   \n",
       "3  Colleague;Friend or family member;Other online...   \n",
       "4  Books / Physical media;Online Courses or Certi...   \n",
       "\n",
       "                                     LearnCodeOnline  ...        Frequency_1  \\\n",
       "0                                                NaN  ...                NaN   \n",
       "1  Formal documentation provided by the owner of ...  ...   1-2 times a week   \n",
       "2  Formal documentation provided by the owner of ...  ...  6-10 times a week   \n",
       "3  Formal documentation provided by the owner of ...  ...   1-2 times a week   \n",
       "4  Formal documentation provided by the owner of ...  ...   1-2 times a week   \n",
       "\n",
       "         Frequency_2       Frequency_3         TimeSearching  \\\n",
       "0                NaN               NaN                   NaN   \n",
       "1   10+ times a week             Never   15-30 minutes a day   \n",
       "2  6-10 times a week  3-5 times a week   30-60 minutes a day   \n",
       "3   10+ times a week  1-2 times a week   15-30 minutes a day   \n",
       "4   1-2 times a week  3-5 times a week  60-120 minutes a day   \n",
       "\n",
       "         TimeAnswering                                   ProfessionalTech  \\\n",
       "0                  NaN                                                NaN   \n",
       "1  15-30 minutes a day  DevOps function;Microservices;Automated testin...   \n",
       "2  30-60 minutes a day  DevOps function;Microservices;Automated testin...   \n",
       "3  30-60 minutes a day  Automated testing;Continuous integration (CI) ...   \n",
       "4  30-60 minutes a day  Microservices;Automated testing;Observability ...   \n",
       "\n",
       "                                            Industry           SurveyLength  \\\n",
       "0                                                NaN                    NaN   \n",
       "1  Information Services, IT, Software Development...  Appropriate in length   \n",
       "2  Information Services, IT, Software Development...  Appropriate in length   \n",
       "3                                                NaN  Appropriate in length   \n",
       "4                                              Other  Appropriate in length   \n",
       "\n",
       "                   SurveyEase ConvertedCompYearly  \n",
       "0                         NaN                 NaN  \n",
       "1                        Easy            285000.0  \n",
       "2                        Easy            250000.0  \n",
       "3                        Easy            156000.0  \n",
       "4  Neither easy nor difficult             23456.0  \n",
       "\n",
       "[5 rows x 84 columns]"
      ]
     },
     "execution_count": 68,
     "metadata": {},
     "output_type": "execute_result"
    }
   ],
   "source": [
    "df = pd.read_csv(\"../dataset/survey_results_public.csv\")\n",
    "df.head()"
   ]
  },
  {
   "cell_type": "code",
   "execution_count": 69,
   "metadata": {},
   "outputs": [
    {
     "data": {
      "text/plain": [
       "Index(['ResponseId', 'Q120', 'MainBranch', 'Age', 'Employment', 'RemoteWork',\n",
       "       'CodingActivities', 'EdLevel', 'LearnCode', 'LearnCodeOnline',\n",
       "       'LearnCodeCoursesCert', 'YearsCode', 'YearsCodePro', 'DevType',\n",
       "       'OrgSize', 'PurchaseInfluence', 'TechList', 'BuyNewTool', 'Country',\n",
       "       'Currency', 'CompTotal', 'LanguageHaveWorkedWith',\n",
       "       'LanguageWantToWorkWith', 'DatabaseHaveWorkedWith',\n",
       "       'DatabaseWantToWorkWith', 'PlatformHaveWorkedWith',\n",
       "       'PlatformWantToWorkWith', 'WebframeHaveWorkedWith',\n",
       "       'WebframeWantToWorkWith', 'MiscTechHaveWorkedWith',\n",
       "       'MiscTechWantToWorkWith', 'ToolsTechHaveWorkedWith',\n",
       "       'ToolsTechWantToWorkWith', 'NEWCollabToolsHaveWorkedWith',\n",
       "       'NEWCollabToolsWantToWorkWith', 'OpSysPersonal use',\n",
       "       'OpSysProfessional use', 'OfficeStackAsyncHaveWorkedWith',\n",
       "       'OfficeStackAsyncWantToWorkWith', 'OfficeStackSyncHaveWorkedWith',\n",
       "       'OfficeStackSyncWantToWorkWith', 'AISearchHaveWorkedWith',\n",
       "       'AISearchWantToWorkWith', 'AIDevHaveWorkedWith', 'AIDevWantToWorkWith',\n",
       "       'NEWSOSites', 'SOVisitFreq', 'SOAccount', 'SOPartFreq', 'SOComm',\n",
       "       'SOAI', 'AISelect', 'AISent', 'AIAcc', 'AIBen',\n",
       "       'AIToolInterested in Using', 'AIToolCurrently Using',\n",
       "       'AIToolNot interested in Using', 'AINextVery different',\n",
       "       'AINextNeither different nor similar', 'AINextSomewhat similar',\n",
       "       'AINextVery similar', 'AINextSomewhat different', 'TBranch', 'ICorPM',\n",
       "       'WorkExp', 'Knowledge_1', 'Knowledge_2', 'Knowledge_3', 'Knowledge_4',\n",
       "       'Knowledge_5', 'Knowledge_6', 'Knowledge_7', 'Knowledge_8',\n",
       "       'Frequency_1', 'Frequency_2', 'Frequency_3', 'TimeSearching',\n",
       "       'TimeAnswering', 'ProfessionalTech', 'Industry', 'SurveyLength',\n",
       "       'SurveyEase', 'ConvertedCompYearly'],\n",
       "      dtype='object')"
      ]
     },
     "execution_count": 69,
     "metadata": {},
     "output_type": "execute_result"
    }
   ],
   "source": [
    "df.columns"
   ]
  },
  {
   "cell_type": "code",
   "execution_count": 70,
   "metadata": {},
   "outputs": [],
   "source": [
    "# Chọn các cột cần lấy\n",
    "selected_columns = ['RemoteWork','EdLevel', 'YearsCodePro', \n",
    "       'DevType', 'Country', 'Age', 'LanguageHaveWorkedWith',\n",
    "       'DatabaseHaveWorkedWith', 'PlatformHaveWorkedWith',\n",
    "       'ToolsTechHaveWorkedWith', 'NEWCollabToolsHaveWorkedWith', \n",
    "       'ConvertedCompYearly']"
   ]
  },
  {
   "cell_type": "markdown",
   "metadata": {},
   "source": [
    "## Giải thích cái cột (Huỳnh Công Đức)"
   ]
  },
  {
   "cell_type": "markdown",
   "metadata": {},
   "source": []
  },
  {
   "cell_type": "code",
   "execution_count": 71,
   "metadata": {},
   "outputs": [],
   "source": [
    "# Tạo DataFrame mới chỉ chứa các cột đã chọn\n",
    "df = df[selected_columns]\n",
    "# Đỏi tên các cột\n",
    "df = df.rename({\"ConvertedCompYearly\": \"Salary\", \n",
    "              \"LanguageHaveWorkedWith\": \"Language\", \n",
    "              \"DatabaseHaveWorkedWith\": \"Database\",\n",
    "              \"PlatformHaveWorkedWith\":  \"Platform\",\n",
    "              \"ToolsTechHaveWorkedWith\": \"ToolsTech\",\n",
    "              \"NEWCollabToolsHaveWorkedWith\": \"CollabTool\"}, axis=1)"
   ]
  },
  {
   "cell_type": "markdown",
   "metadata": {},
   "source": [
    "## Data Cleaning"
   ]
  },
  {
   "cell_type": "code",
   "execution_count": 72,
   "metadata": {},
   "outputs": [
    {
     "data": {
      "text/plain": [
       "RemoteWork      15374\n",
       "EdLevel          1211\n",
       "YearsCodePro    23048\n",
       "DevType         12312\n",
       "Country          1211\n",
       "Age                 0\n",
       "Language         2044\n",
       "Database        15749\n",
       "Platform        25556\n",
       "ToolsTech       11300\n",
       "CollabTool       3320\n",
       "Salary          41165\n",
       "dtype: int64"
      ]
     },
     "execution_count": 72,
     "metadata": {},
     "output_type": "execute_result"
    }
   ],
   "source": [
    "df.isnull().sum()"
   ]
  },
  {
   "cell_type": "code",
   "execution_count": 73,
   "metadata": {},
   "outputs": [],
   "source": [
    "def split_multicolumn(col_series):\n",
    "    result_df = col_series.to_frame()\n",
    "    options = []\n",
    "    # Iterate over the column\n",
    "    for idx, value  in col_series[col_series.notnull()].items():\n",
    "        # Break each value into list of options\n",
    "        for option in value.split(';'):\n",
    "            # Add the option as a column to result\n",
    "            if not option in result_df.columns:\n",
    "                options.append(option)\n",
    "                result_df[option] = 0.\n",
    "            # Mark the value in the option column as True\n",
    "            result_df.at[idx, option] = 1.\n",
    "    return result_df[options]\n",
    "\n",
    "def shorten_categories(categories, cutoff):\n",
    "    categorical_map = {}\n",
    "    for i in range(len(categories)):\n",
    "        if categories.values[i] >= cutoff:\n",
    "            categorical_map[categories.index[i]] = categories.index[i]\n",
    "        else:\n",
    "            categorical_map[categories.index[i]] = 'Other'\n",
    "    return categorical_map\n",
    "\n",
    "def age_process(val):\n",
    "    if val == \"Under 18 years old\":\n",
    "        return \"Under 18\"\n",
    "    if val == \"18-24 years old\":\n",
    "        return \"18-24\"\n",
    "    if val == \"25-34 years old\":\n",
    "        return \"25-34\"\n",
    "    if val == \"35-44 years old\":\n",
    "        return \"35-44\"\n",
    "    return \"Over 45\"\n",
    "\n",
    "def clean_education(x):\n",
    "    if 'Bachelor’s degree' in x:\n",
    "        return 'Bachelor’s degree'\n",
    "    if 'Master’s degree' in x:\n",
    "        return 'Master’s degree'\n",
    "    if 'Professional degree' in x:\n",
    "        return 'Post grad'\n",
    "    return 'Less than a Bachelors'\n",
    "\n",
    "def YearCodeProProcess(x):\n",
    "    if x ==  'More than 50 years':\n",
    "        return 50\n",
    "    if x == 'Less than 1 year':\n",
    "        return 0.5\n",
    "    return float(x)\n",
    "\n",
    "def remote_work_process(val):\n",
    "    if val == 'Hybrid (some remote, some in-person)':\n",
    "        return \"Hybrid\"\n",
    "    if val == 'Remote':\n",
    "        return \"Remote\"\n",
    "    else:\n",
    "        return \"Person\""
   ]
  },
  {
   "cell_type": "code",
   "execution_count": 74,
   "metadata": {},
   "outputs": [],
   "source": [
    "df = df[df['Salary'].notnull()]"
   ]
  },
  {
   "cell_type": "markdown",
   "metadata": {},
   "source": [
    "### Xử lí cột \"Country\""
   ]
  },
  {
   "cell_type": "code",
   "execution_count": 75,
   "metadata": {},
   "outputs": [
    {
     "data": {
      "text/plain": [
       "Country\n",
       "USA                   11881\n",
       "Germany                3970\n",
       "UK                     3544\n",
       "Other                  2364\n",
       "Canada                 2105\n",
       "India                  1868\n",
       "France                 1801\n",
       "Netherlands            1362\n",
       "Poland                 1266\n",
       "Brazil                 1252\n",
       "Australia              1211\n",
       "Spain                  1150\n",
       "Sweden                 1056\n",
       "Italy                  1012\n",
       "Switzerland             662\n",
       "Austria                 531\n",
       "Denmark                 516\n",
       "Czech Republic          493\n",
       "Norway                  486\n",
       "Portugal                478\n",
       "Israel                  470\n",
       "Belgium                 445\n",
       "Finland                 440\n",
       "Russian Federation      426\n",
       "Ukraine                 421\n",
       "New Zealand             414\n",
       "Romania                 408\n",
       "Turkey                  395\n",
       "South Africa            351\n",
       "Greece                  336\n",
       "Mexico                  330\n",
       "Hungary                 306\n",
       "Ireland                 285\n",
       "Colombia                278\n",
       "Argentina               277\n",
       "Pakistan                256\n",
       "Bulgaria                239\n",
       "Iran                    221\n",
       "Serbia                  205\n",
       "Japan                   193\n",
       "Lithuania               184\n",
       "Slovakia                180\n",
       "Slovenia                172\n",
       "Indonesia               168\n",
       "China                   167\n",
       "Croatia                 162\n",
       "Bangladesh              160\n",
       "Estonia                 143\n",
       "Singapore               139\n",
       "Chile                   138\n",
       "Philippines             135\n",
       "Nigeria                 128\n",
       "Malaysia                120\n",
       "Viet Nam                114\n",
       "Thailand                104\n",
       "Georgia                 101\n",
       "Name: count, dtype: int64"
      ]
     },
     "execution_count": 75,
     "metadata": {},
     "output_type": "execute_result"
    }
   ],
   "source": [
    "country_map = shorten_categories(df.Country.value_counts(), 100)\n",
    "df['Country'] = df['Country'].map(country_map)\n",
    "df['Country'] = df['Country'].replace('United Kingdom of Great Britain and Northern Ireland', 'UK')\n",
    "df['Country'] = df['Country'].replace('United States of America', 'USA')\n",
    "df['Country'] = df['Country'].replace('Iran, Islamic Republic of...', 'Iran')  \n",
    "df.Country.value_counts()"
   ]
  },
  {
   "cell_type": "code",
   "execution_count": 76,
   "metadata": {},
   "outputs": [
    {
     "data": {
      "text/plain": [
       "array(['USA', 'Philippines', 'UK', 'Finland', 'Australia', 'Netherlands',\n",
       "       'Germany', 'Sweden', 'France', 'Other', 'Nigeria', 'Spain',\n",
       "       'South Africa', 'Brazil', 'Portugal', 'Italy', 'Bangladesh',\n",
       "       'Canada', 'Argentina', 'Switzerland', 'Lithuania', 'Serbia',\n",
       "       'India', 'Russian Federation', 'Greece', 'Austria', 'Norway',\n",
       "       'Singapore', 'Turkey', 'Croatia', 'Poland', 'Iran', 'Slovenia',\n",
       "       'China', 'Belgium', 'Romania', 'Denmark', 'Hungary', 'Viet Nam',\n",
       "       'Israel', 'Ukraine', 'Estonia', 'Indonesia', 'Ireland', 'Georgia',\n",
       "       'Japan', 'Czech Republic', 'Malaysia', 'Pakistan', 'New Zealand',\n",
       "       'Slovakia', 'Bulgaria', 'Thailand', 'Colombia', 'Mexico', 'Chile'],\n",
       "      dtype=object)"
      ]
     },
     "execution_count": 76,
     "metadata": {},
     "output_type": "execute_result"
    }
   ],
   "source": [
    "df['Country'].unique()"
   ]
  },
  {
   "cell_type": "markdown",
   "metadata": {},
   "source": [
    "### Xử lí cột \"Age\""
   ]
  },
  {
   "cell_type": "code",
   "execution_count": 77,
   "metadata": {},
   "outputs": [],
   "source": [
    "df = df[df['Age'] != \"Prefer not to say\"]"
   ]
  },
  {
   "cell_type": "code",
   "execution_count": 78,
   "metadata": {},
   "outputs": [],
   "source": [
    "df['Age'] = df['Age'].apply(age_process)"
   ]
  },
  {
   "cell_type": "code",
   "execution_count": 79,
   "metadata": {},
   "outputs": [
    {
     "data": {
      "text/plain": [
       "Age\n",
       "25-34       22163\n",
       "35-44       13848\n",
       "Over 45      7000\n",
       "18-24        4922\n",
       "Under 18       56\n",
       "Name: count, dtype: int64"
      ]
     },
     "execution_count": 79,
     "metadata": {},
     "output_type": "execute_result"
    }
   ],
   "source": [
    "df['Age'].value_counts()"
   ]
  },
  {
   "cell_type": "markdown",
   "metadata": {},
   "source": [
    "### Xử lý cột \"EdLevel\""
   ]
  },
  {
   "cell_type": "code",
   "execution_count": 80,
   "metadata": {},
   "outputs": [],
   "source": [
    "df['EdLevel'] = df['EdLevel'].apply(clean_education)"
   ]
  },
  {
   "cell_type": "code",
   "execution_count": 81,
   "metadata": {},
   "outputs": [
    {
     "data": {
      "text/plain": [
       "EdLevel\n",
       "Bachelor’s degree        22528\n",
       "Master’s degree          13038\n",
       "Less than a Bachelors    10128\n",
       "Post grad                 2295\n",
       "Name: count, dtype: int64"
      ]
     },
     "execution_count": 81,
     "metadata": {},
     "output_type": "execute_result"
    }
   ],
   "source": [
    "df['EdLevel'].value_counts()"
   ]
  },
  {
   "cell_type": "markdown",
   "metadata": {},
   "source": [
    "### Xử lý cột \"RemoteWork\""
   ]
  },
  {
   "cell_type": "code",
   "execution_count": 82,
   "metadata": {},
   "outputs": [
    {
     "data": {
      "text/plain": [
       "RemoteWork\n",
       "Remote    21128\n",
       "Hybrid    20266\n",
       "Person     6595\n",
       "Name: count, dtype: int64"
      ]
     },
     "execution_count": 82,
     "metadata": {},
     "output_type": "execute_result"
    }
   ],
   "source": [
    "df['RemoteWork'] = df['RemoteWork'].apply(remote_work_process)\n",
    "df['RemoteWork'].value_counts()"
   ]
  },
  {
   "cell_type": "markdown",
   "metadata": {},
   "source": [
    "### Xử lý cột \"YearCodePro\""
   ]
  },
  {
   "cell_type": "code",
   "execution_count": 83,
   "metadata": {},
   "outputs": [],
   "source": [
    "df['YearsCodePro'] = df['YearsCodePro'].apply(YearCodeProProcess)"
   ]
  },
  {
   "cell_type": "code",
   "execution_count": 84,
   "metadata": {},
   "outputs": [],
   "source": [
    "df = df[df['YearsCodePro'].notnull()]"
   ]
  },
  {
   "cell_type": "code",
   "execution_count": 85,
   "metadata": {},
   "outputs": [
    {
     "data": {
      "text/plain": [
       "Index(['RemoteWork', 'EdLevel', 'YearsCodePro', 'DevType', 'Country', 'Age',\n",
       "       'Language', 'Database', 'Platform', 'ToolsTech', 'CollabTool',\n",
       "       'Salary'],\n",
       "      dtype='object')"
      ]
     },
     "execution_count": 85,
     "metadata": {},
     "output_type": "execute_result"
    }
   ],
   "source": [
    "df.columns"
   ]
  },
  {
   "cell_type": "code",
   "execution_count": 86,
   "metadata": {},
   "outputs": [
    {
     "data": {
      "text/plain": [
       "array(['USA', 'Philippines', 'UK', 'Finland', 'Australia', 'Netherlands',\n",
       "       'Germany', 'Sweden', 'France', 'Other', 'Nigeria', 'Spain',\n",
       "       'South Africa', 'Brazil', 'Portugal', 'Italy', 'Bangladesh',\n",
       "       'Canada', 'Argentina', 'Switzerland', 'Lithuania', 'Serbia',\n",
       "       'India', 'Russian Federation', 'Greece', 'Austria', 'Norway',\n",
       "       'Singapore', 'Turkey', 'Croatia', 'Poland', 'Iran', 'Slovenia',\n",
       "       'China', 'Belgium', 'Romania', 'Denmark', 'Hungary', 'Viet Nam',\n",
       "       'Israel', 'Ukraine', 'Estonia', 'Indonesia', 'Ireland', 'Georgia',\n",
       "       'Japan', 'Czech Republic', 'Malaysia', 'Pakistan', 'New Zealand',\n",
       "       'Slovakia', 'Bulgaria', 'Thailand', 'Colombia', 'Mexico', 'Chile'],\n",
       "      dtype=object)"
      ]
     },
     "execution_count": 86,
     "metadata": {},
     "output_type": "execute_result"
    }
   ],
   "source": [
    "df['Country'].unique()"
   ]
  },
  {
   "cell_type": "code",
   "execution_count": 87,
   "metadata": {},
   "outputs": [
    {
     "data": {
      "text/plain": [
       "Index(['RemoteWork', 'EdLevel', 'YearsCodePro', 'DevType', 'Country', 'Age',\n",
       "       'Language', 'Database', 'Platform', 'ToolsTech', 'CollabTool',\n",
       "       'Salary'],\n",
       "      dtype='object')"
      ]
     },
     "execution_count": 87,
     "metadata": {},
     "output_type": "execute_result"
    }
   ],
   "source": [
    "df.columns"
   ]
  },
  {
   "cell_type": "markdown",
   "metadata": {},
   "source": [
    "### Xử lí Dev_Type"
   ]
  },
  {
   "cell_type": "code",
   "execution_count": 88,
   "metadata": {},
   "outputs": [],
   "source": [
    "df = df[df['DevType'].notnull()]"
   ]
  },
  {
   "cell_type": "code",
   "execution_count": 89,
   "metadata": {},
   "outputs": [],
   "source": [
    "Dev_Type = split_multicolumn(df['DevType'])\n",
    "# Chon các công cụ có hơn 1k người sử dụng\n",
    "selected_DevType = Dev_Type.columns[Dev_Type.sum()>200]\n",
    "\n",
    "def assign_other(row):\n",
    "    if any(role in row for role in selected_DevType):\n",
    "        if \"Other (please specify)\" in row:\n",
    "            return 'Other'\n",
    "        return row\n",
    "    else:\n",
    "        return 'Other'\n",
    "\n",
    "df['DevType'] = df['DevType'].apply(assign_other)"
   ]
  },
  {
   "cell_type": "code",
   "execution_count": 90,
   "metadata": {},
   "outputs": [
    {
     "data": {
      "text/plain": [
       "DevType\n",
       "Developer, full-stack                            16986\n",
       "Developer, back-end                               9524\n",
       "Developer, front-end                              3262\n",
       "Other                                             2595\n",
       "Developer, desktop or enterprise applications     2426\n",
       "Developer, mobile                                 1644\n",
       "Engineering manager                               1307\n",
       "Developer, embedded applications or devices       1263\n",
       "Data scientist or machine learning specialist      987\n",
       "DevOps specialist                                  980\n",
       "Engineer, data                                     898\n",
       "Research & Development role                        825\n",
       "Senior Executive (C-Suite, VP, etc.)               771\n",
       "Cloud infrastructure engineer                      763\n",
       "Academic researcher                                609\n",
       "Developer, game or graphics                        490\n",
       "Data or business analyst                           447\n",
       "Developer, QA or test                              360\n",
       "System administrator                               320\n",
       "Engineer, site reliability                         318\n",
       "Project manager                                    249\n",
       "Security professional                              237\n",
       "Product manager                                    221\n",
       "Developer Experience                               217\n",
       "Name: count, dtype: int64"
      ]
     },
     "execution_count": 90,
     "metadata": {},
     "output_type": "execute_result"
    }
   ],
   "source": [
    "df['DevType'].value_counts()"
   ]
  },
  {
   "cell_type": "markdown",
   "metadata": {},
   "source": [
    "### Xử lý cột \"Language\""
   ]
  },
  {
   "cell_type": "code",
   "execution_count": 91,
   "metadata": {},
   "outputs": [],
   "source": [
    "# Tách những phần tử trong mỗi dòng được ngăn cách nhau bằng dấu ; thành các cột riêng biệt\n",
    "language = split_multicolumn(df['Language'])\n",
    "# Chọn những ngôn ngữ chiếm ưu thế\n",
    "selected_language = language.columns[language.sum()>10000]\n",
    "language = language[selected_language]\n",
    "language.fillna(0, inplace=True)\n",
    "language['Other language'] = language.apply(lambda row: 1.0 if row.sum() == 0 else 0.0, axis=1)\n",
    "\n",
    "df.index.name = 'id'\n",
    "df = df.reset_index()\n",
    "\n",
    "language.index.name = 'id'\n",
    "language = language.reset_index()\n",
    "\n",
    "df = pd.merge(df,language,on='id',how='inner')\n",
    "\n",
    "df = df.drop(['id', 'Language'], axis=1)"
   ]
  },
  {
   "cell_type": "markdown",
   "metadata": {},
   "source": [
    "### Xử lý cột \"Database\""
   ]
  },
  {
   "cell_type": "code",
   "execution_count": 92,
   "metadata": {},
   "outputs": [],
   "source": [
    "database = split_multicolumn(df['Database'])\n",
    "selected_database = database.columns[database.sum()>5000]\n",
    "database = database[selected_database]\n",
    "database.fillna(0, inplace=True)\n",
    "database['Other database'] = database.apply(lambda row: 1.0 if row.sum() == 0 else 0.0, axis=1)\n",
    "\n",
    "df.index.name = 'id'\n",
    "df = df.reset_index()\n",
    "\n",
    "database.index.name = 'id'\n",
    "database = database.reset_index()\n",
    "\n",
    "df = pd.merge(df,database,on='id',how='inner')\n",
    "\n",
    "df = df.drop(['id', 'Database'], axis=1)"
   ]
  },
  {
   "cell_type": "markdown",
   "metadata": {},
   "source": [
    "### Xử lý cột \"Platform\""
   ]
  },
  {
   "cell_type": "code",
   "execution_count": 93,
   "metadata": {},
   "outputs": [],
   "source": [
    "platform = split_multicolumn(df['Platform'])\n",
    "selected_platform = platform.columns[platform.sum()>5000]\n",
    "platform = platform[selected_platform]\n",
    "platform.fillna(0, inplace=True)\n",
    "platform['Other platform'] = platform.apply(lambda row: 1.0 if row.sum() == 0 else 0.0, axis=1)\n",
    "\n",
    "df.index.name = 'id'\n",
    "df = df.reset_index()\n",
    "\n",
    "platform.index.name = 'id'\n",
    "platform = platform.reset_index()\n",
    "\n",
    "df = pd.merge(df,platform,on='id',how='inner')\n",
    "\n",
    "df = df.drop(['id', 'Platform'], axis=1)"
   ]
  },
  {
   "cell_type": "markdown",
   "metadata": {},
   "source": [
    "### Xử lý cột \"ToolsTech\""
   ]
  },
  {
   "cell_type": "code",
   "execution_count": 94,
   "metadata": {},
   "outputs": [],
   "source": [
    "toolsTech = split_multicolumn(df['ToolsTech'])\n",
    "selected_toolsTech = toolsTech.columns[toolsTech.sum()>10000]\n",
    "toolsTech = toolsTech[selected_toolsTech]\n",
    "toolsTech.fillna(0, inplace=True)\n",
    "toolsTech['Other ToolsTech'] = toolsTech.apply(lambda row: 1.0 if row.sum() == 0 else 0.0, axis=1)\n",
    "\n",
    "df.index.name = 'id'\n",
    "df = df.reset_index()\n",
    "\n",
    "toolsTech.index.name = 'id'\n",
    "webframe = toolsTech.reset_index()\n",
    "\n",
    "df = pd.merge(df, toolsTech,on='id',how='inner')\n",
    "\n",
    "df = df.drop(['id', 'ToolsTech'], axis=1)"
   ]
  },
  {
   "cell_type": "markdown",
   "metadata": {},
   "source": [
    "### Xử lý cột \"CollabTool\""
   ]
  },
  {
   "cell_type": "code",
   "execution_count": 95,
   "metadata": {},
   "outputs": [],
   "source": [
    "collabTool = split_multicolumn(df['CollabTool'])\n",
    "selected_collabTool = collabTool.columns[collabTool.sum()>6000]\n",
    "collabTool = collabTool[selected_collabTool]\n",
    "collabTool.fillna(0, inplace=True)\n",
    "collabTool['Other CollabTool'] = collabTool.apply(lambda row: 1.0 if row.sum() == 0 else 0.0, axis=1)\n",
    "\n",
    "df.index.name = 'id'\n",
    "df = df.reset_index()\n",
    "\n",
    "collabTool.index.name = 'id'\n",
    "collabTool = collabTool.reset_index()\n",
    "\n",
    "df = pd.merge(df, collabTool,on='id',how='inner')\n",
    "\n",
    "df = df.drop(['id', 'CollabTool'], axis=1)"
   ]
  },
  {
   "cell_type": "markdown",
   "metadata": {},
   "source": [
    "### Xử lý cột 'Salary'"
   ]
  },
  {
   "cell_type": "code",
   "execution_count": 96,
   "metadata": {},
   "outputs": [],
   "source": [
    "df = df[df['Salary'].notnull()]"
   ]
  },
  {
   "cell_type": "code",
   "execution_count": 97,
   "metadata": {},
   "outputs": [],
   "source": [
    "# Tạo thêm cột log_Salary để làm giảm độ chênh lệch của mức giá đi\n",
    "df['Log_Salary'] = np.log(df['Salary'])"
   ]
  },
  {
   "cell_type": "code",
   "execution_count": 98,
   "metadata": {},
   "outputs": [
    {
     "data": {
      "text/plain": [
       "<Figure size 1000x600 with 0 Axes>"
      ]
     },
     "metadata": {},
     "output_type": "display_data"
    },
    {
     "data": {
      "image/png": "[encoded data removed]",
      "text/plain": [
       "<Figure size 1000x500 with 1 Axes>"
      ]
     },
     "metadata": {},
     "output_type": "display_data"
    }
   ],
   "source": [
    "# Vẽ biểu đồ\n",
    "sns.set(style=\"whitegrid\", font_scale=1.2)\n",
    "plt.figure(figsize=(10, 6))\n",
    "plot = sns.displot(df['Log_Salary'], kde=True, color='skyblue', aspect=2)\n",
    "plot.set(title='Distribution of Salary', xlabel='Log Salary', ylabel='Density')\n",
    "plt.show()\n"
   ]
  },
  {
   "cell_type": "code",
   "execution_count": 99,
   "metadata": {},
   "outputs": [],
   "source": [
    "Q1 = df['Salary'].quantile(0.25)\n",
    "Q2 = df['Salary'].quantile(0.50)\n",
    "Q3 = df['Salary'].quantile(0.75)\n",
    "IQR = Q3 - Q1\n",
    "low = Q1 - 1.5 * IQR\n",
    "high = Q3 + 1.5 * IQR\n",
    "\n",
    "df = df[(df['Salary'] >= low) & (df['Salary'] <= high)]"
   ]
  },
  {
   "cell_type": "code",
   "execution_count": 100,
   "metadata": {},
   "outputs": [],
   "source": [
    "# Dữ liệu phân bố từ 10 đến 13 nên ta lựa chọn khoảng này\n",
    "df = df[df['Log_Salary'] >= 10]\n",
    "df = df[df['Log_Salary'] <= 13]"
   ]
  },
  {
   "cell_type": "code",
   "execution_count": 101,
   "metadata": {},
   "outputs": [
    {
     "data": {
      "text/plain": [
       "<Figure size 1000x600 with 0 Axes>"
      ]
     },
     "metadata": {},
     "output_type": "display_data"
    },
    {
     "data": {
      "image/png": "[encoded data removed]",
      "text/plain": [
       "<Figure size 1000x500 with 1 Axes>"
      ]
     },
     "metadata": {},
     "output_type": "display_data"
    }
   ],
   "source": [
    "# Vẽ biểu đồ\n",
    "sns.set(style=\"whitegrid\", font_scale=1.2)\n",
    "plt.figure(figsize=(10, 6))\n",
    "plot = sns.displot(df['Log_Salary'], kde=True, color='skyblue', aspect=2)\n",
    "plot.set(title='Distribution of Salary', xlabel='Log_Salary', ylabel='Density')\n",
    "plt.show()"
   ]
  },
  {
   "cell_type": "code",
   "execution_count": 102,
   "metadata": {},
   "outputs": [],
   "source": [
    "df = df.drop('Log_Salary', axis = 1)"
   ]
  },
  {
   "cell_type": "markdown",
   "metadata": {},
   "source": [
    "## EDA (Huỳnh Công Đức)"
   ]
  },
  {
   "cell_type": "code",
   "execution_count": 103,
   "metadata": {},
   "outputs": [
    {
     "data": {
      "text/plain": [
       "(39772, 47)"
      ]
     },
     "execution_count": 103,
     "metadata": {},
     "output_type": "execute_result"
    }
   ],
   "source": [
    "df.shape"
   ]
  },
  {
   "cell_type": "code",
   "execution_count": 104,
   "metadata": {},
   "outputs": [],
   "source": [
    "df.to_csv('../dataset/clean_data.csv')"
   ]
  }
 ],
 "metadata": {
  "kernelspec": {
   "display_name": "Python 3 (ipykernel)",
   "language": "python",
   "name": "python3"
  },
  "language_info": {
   "codemirror_mode": {
    "name": "ipython",
    "version": 3
   },
   "file_extension": ".py",
   "mimetype": "text/x-python",
   "name": "python",
   "nbconvert_exporter": "python",
   "pygments_lexer": "ipython3",
   "version": "3.12.1"
  }
 },
 "nbformat": 4,
 "nbformat_minor": 4
}
